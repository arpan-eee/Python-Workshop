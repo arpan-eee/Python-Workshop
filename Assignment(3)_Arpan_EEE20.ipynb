{
 "cells": [
  {
   "cell_type": "markdown",
   "id": "dried-topic",
   "metadata": {},
   "source": [
    "# About Flow Control\n",
    "### ● What is flow control?\n",
    "Answer : The statement which control execution flow at runtime are\n",
    "called flow control\n",
    "### ● List all flow control with example\n",
    "Answer: \n",
    "\n",
    "● Sequential\n",
    "\n",
    "● Conditional Statement\n",
    "\n",
    "    ○ If\n",
    "\n",
    "    ○ If else\n",
    "\n",
    "    ○ If elif else\n",
    "\n",
    "    ○ If elif\n",
    "\n",
    "\n",
    "● Iterative statement\n",
    "\n",
    "    ○ For\n",
    "\n",
    "    ○ while\n",
    "\n",
    "\n",
    "● Transfer statement\n",
    "\n",
    "    ○ Break\n",
    "\n",
    "    ○ Continue"
   ]
  },
  {
   "cell_type": "markdown",
   "id": "chicken-paradise",
   "metadata": {},
   "source": [
    "# Conditional statement\n",
    "### ● What is conditional statement\n",
    "Answer : When a program only run if the condition is satisfied, that is called coonditional statement. \n",
    "### ● Describe structure of conditional statement\n",
    "Answer : To add a condition in python we have to follow this,\n",
    "\n",
    "    if condition-1 :\n",
    "        statement 1\n",
    "        statement 2\n",
    "    \n",
    "    elif condition-2 :\n",
    "        statement 3\n",
    "    \n",
    "    else :\n",
    "        statement 4\n",
    "    \n",
    "    statement 5\n",
    "\n",
    "● If condition-1 is satisfied, program will run statement 1 and 2 and then statement 5. \n",
    "\n",
    "● If condition-2 is satisfied, program will run statement 3 and then statement 5. \n",
    "\n",
    "● If none of condition-1 and condition-2 is satisfied, program will run statement 4 and then statement 5. "
   ]
  },
  {
   "cell_type": "markdown",
   "id": "inner-elevation",
   "metadata": {},
   "source": [
    "# Problem 1\n",
    "### ● Take input from a user and check whether the number is odd or even ?"
   ]
  },
  {
   "cell_type": "code",
   "execution_count": 40,
   "id": "impossible-maryland",
   "metadata": {},
   "outputs": [
    {
     "name": "stdout",
     "output_type": "stream",
     "text": [
      "Enter a number: 23\n",
      "The number is odd\n"
     ]
    }
   ],
   "source": [
    "a = int(input(\"Enter a number: \"))\n",
    "if a % 2 == 0 :\n",
    "    print(\"The Number is Even\")\n",
    "else :\n",
    "    print(\"The number is odd\")"
   ]
  },
  {
   "cell_type": "markdown",
   "id": "signal-socket",
   "metadata": {},
   "source": [
    "# Problem 2\n",
    "### ● Take integer input from user, say a\n",
    "#### 1. Print number of sample, if 100<=a<200, and a is divisible by 9"
   ]
  },
  {
   "cell_type": "code",
   "execution_count": 41,
   "id": "equal-spouse",
   "metadata": {},
   "outputs": [
    {
     "name": "stdout",
     "output_type": "stream",
     "text": [
      "Enter a number: 111\n",
      "In range but not devided by 9 .\n"
     ]
    }
   ],
   "source": [
    "a = int(input(\"Enter a number: \"))\n",
    "if a>=100 and a<200 :\n",
    "    if b % 9 == 0 :\n",
    "        print(\"It satisfies the condition .\")\n",
    "    else :\n",
    "        print(\"In range but not devided by 9 .\")\n",
    "else :\n",
    "    print(\"Not in range .\")"
   ]
  },
  {
   "cell_type": "markdown",
   "id": "legitimate-intention",
   "metadata": {},
   "source": [
    "#### 2. Display those numbers which are divisible by 7 and multiple of 5, between 500 and 100"
   ]
  },
  {
   "cell_type": "code",
   "execution_count": 42,
   "id": "written-barcelona",
   "metadata": {},
   "outputs": [
    {
     "name": "stdout",
     "output_type": "stream",
     "text": [
      "Enter a number: 350\n",
      "It satisfies the condition .\n"
     ]
    }
   ],
   "source": [
    "c = int(input(\"Enter a number: \"))\n",
    "if c>=100 and c<=500 :\n",
    "    if c%7 == 0 and c%5 == 0:\n",
    "        print(\"It satisfies the condition .\")\n",
    "    else :\n",
    "        print(\"It doesn't satisfies the condition .\")\n",
    "else :\n",
    "    print(\"Not in range .\")"
   ]
  },
  {
   "cell_type": "markdown",
   "id": "broke-township",
   "metadata": {},
   "source": [
    "# Problem 3\n",
    "### ● Take year as a integer input from a user, check whether the year is leap year or not?"
   ]
  },
  {
   "cell_type": "markdown",
   "id": "reduced-flavor",
   "metadata": {},
   "source": [
    "# Theory :\n",
    "### How to determine whether a year is a leap year\n",
    "To determine whether a year is a leap year, we have to follow these steps:\n",
    "\n",
    "1. If the year is evenly divisible by 4, go to step 2. Otherwise, go to step 5.\n",
    "2. If the year is evenly divisible by 100, go to step 3. Otherwise, go to step 4.\n",
    "3. If the year is evenly divisible by 400, go to step 4. Otherwise, go to step 5.\n",
    "4. The year is a leap year (it has 366 days).\n",
    "5. The year is not a leap year (it has 365 days).\n",
    "\n",
    "#### For this reason, the following years are not leap years:\n",
    "\n",
    "1700, 1800, 1900, 2100, 2200, 2300, 2500, 2600\n",
    "\n",
    "#### The following years are leap years: \n",
    "\n",
    "1600, 2000, 2400"
   ]
  },
  {
   "cell_type": "code",
   "execution_count": 43,
   "id": "serious-olympus",
   "metadata": {},
   "outputs": [
    {
     "name": "stdout",
     "output_type": "stream",
     "text": [
      "Enter a year: 2100\n",
      "The year is not a leap year .\n"
     ]
    }
   ],
   "source": [
    "y = int(input(\"Enter a year: \"))\n",
    "\n",
    "if y%4 == 0:\n",
    "    if y%100 == 0:\n",
    "        if y%400 == 0:\n",
    "            print(\"The year is a leap year .\")\n",
    "        else :\n",
    "            print(\"The year is not a leap year .\")\n",
    "    else :\n",
    "        print(\"The year is a leap year\")\n",
    "else :\n",
    "    print(\"The year is not a leap year .\")"
   ]
  },
  {
   "cell_type": "markdown",
   "id": "recovered-alberta",
   "metadata": {},
   "source": [
    "# Problem 4\n",
    "### ● Make a simple calculator (function : +, -, * and /)\n",
    "○ Take three input from a user, say, input1, input2, input3\n",
    "\n",
    "○ input 1 represents arithmetic sing ( +, -, * and /)\n",
    "\n",
    "○ Input 2 and input 3 represent number\n",
    "\n",
    "○ Display arithmetic output of input 2 and input 3 based on input 1"
   ]
  },
  {
   "cell_type": "code",
   "execution_count": 44,
   "id": "noted-copying",
   "metadata": {},
   "outputs": [
    {
     "name": "stdout",
     "output_type": "stream",
     "text": [
      "Enter an arithmatic sign : /\n",
      "Enter 1st number: 7\n",
      "Enter 2nd number: 5\n",
      "7 / 5 = 1.4\n"
     ]
    }
   ],
   "source": [
    "i1 = input(\"Enter an arithmatic sign : \")\n",
    "i2 = int(input(\"Enter 1st number: \"))\n",
    "i3 = int(input(\"Enter 2nd number: \"))\n",
    "\n",
    "if i1 == \"+\" :\n",
    "    print(i2,\"+\",i3,\"=\",i2+i3)\n",
    "elif i1 == \"-\" :\n",
    "    print(i2,\"-\",i3,\"=\",i2-i3)\n",
    "elif i1 == \"*\" :\n",
    "    print(i2,\"*\",i3,\"=\",i2*i3)\n",
    "elif i1 == \"/\" :\n",
    "    print(i2,\"/\",i3,\"=\",i2/i3)\n",
    "else :\n",
    "    print(\"Invalid Operator\")\n"
   ]
  },
  {
   "cell_type": "markdown",
   "id": "north-plumbing",
   "metadata": {},
   "source": [
    "# Problem 5\n",
    "### ● Take a number from a user, check if the number is positive or negative or zero and display an appropriate message"
   ]
  },
  {
   "cell_type": "code",
   "execution_count": 45,
   "id": "mysterious-biotechnology",
   "metadata": {},
   "outputs": [
    {
     "name": "stdout",
     "output_type": "stream",
     "text": [
      "Enter a number: 98\n",
      "The number is positive\n"
     ]
    }
   ],
   "source": [
    "d = int(input(\"Enter a number: \"))\n",
    "\n",
    "if d>=0 :\n",
    "    if d == 0 :\n",
    "        print(\"The number is zero\")\n",
    "    else :\n",
    "        print(\"The number is positive\")\n",
    "else :\n",
    "    print(\"The Number is negative\")"
   ]
  },
  {
   "cell_type": "markdown",
   "id": "exciting-thompson",
   "metadata": {},
   "source": [
    "# Problem 6\n",
    "### ● Take values of length and breadth of a rectangle from a user and check if it is square or not."
   ]
  },
  {
   "cell_type": "code",
   "execution_count": 46,
   "id": "suited-snake",
   "metadata": {},
   "outputs": [
    {
     "name": "stdout",
     "output_type": "stream",
     "text": [
      "Enter length of the rectangle: 25\n",
      "Enter breadth of the rectangle: 40\n",
      "This is not a square .\n"
     ]
    }
   ],
   "source": [
    "l = int(input(\"Enter length of the rectangle: \"))\n",
    "b = int(input(\"Enter breadth of the rectangle: \"))\n",
    "\n",
    "if l == b :\n",
    "    print(\"This is a square .\")\n",
    "else :\n",
    "    print(\"This is not a square .\")\n",
    "              "
   ]
  },
  {
   "cell_type": "markdown",
   "id": "based-marsh",
   "metadata": {},
   "source": [
    "# Problem 7\n",
    "### ● Take three int values from a user and display the highest and lowest number among them."
   ]
  },
  {
   "cell_type": "code",
   "execution_count": 47,
   "id": "attempted-preference",
   "metadata": {},
   "outputs": [
    {
     "name": "stdout",
     "output_type": "stream",
     "text": [
      "Enter the first number 25\n",
      "Enter the second number 50\n",
      "Enter the third number 40\n",
      "50 is the highest number\n",
      "25 is the lowest number\n"
     ]
    }
   ],
   "source": [
    "p = int(input(\"Enter the first number \"))\n",
    "q = int(input(\"Enter the second number \"))\n",
    "r = int(input(\"Enter the third number \"))\n",
    "\n",
    "if p>q and p>r :\n",
    "    print(p,\"is the highest number\")\n",
    "elif q>p and q>r :\n",
    "    print(q,\"is the highest number\")\n",
    "elif r>q and r>p :\n",
    "    print(r,\"is the highest number\")\n",
    "    \n",
    "if p<q and p<r :\n",
    "    print(p,\"is the lowest number\")\n",
    "elif q<p and q<r :\n",
    "    print(q,\"is the lowest number\")\n",
    "elif r<q and r<p :\n",
    "    print(r,\"is the lowest number\")"
   ]
  },
  {
   "cell_type": "markdown",
   "id": "interracial-public",
   "metadata": {},
   "source": [
    "# Problem 8\n",
    "### ● Ask a user to enter marks and print the corresponding grade.\n",
    "○ Hints\n",
    "\n",
    "    ■ Below 30 - F\n",
    "\n",
    "    ■ b. 30 to 35 - D\n",
    "\n",
    "    ■ c. 35 to 40 - C\n",
    "\n",
    "○ Grading should follow hstu grading structure"
   ]
  },
  {
   "cell_type": "code",
   "execution_count": 48,
   "id": "antique-blink",
   "metadata": {},
   "outputs": [
    {
     "name": "stdout",
     "output_type": "stream",
     "text": [
      "Enter total number 150\n",
      "Enter your number 96\n",
      "Your grade is B\n",
      "You have got 64.0% number\n"
     ]
    }
   ],
   "source": [
    "t=int(input(\"Enter total number \"))\n",
    "g=int(input(\"Enter your number \"))\n",
    "\n",
    "per = g/t*100 \n",
    "\n",
    "if per >100:\n",
    "    print(\"You can't get more than total number\")\n",
    "elif per>= 80:\n",
    "    print(\"Your grade is A+\")\n",
    "elif per>= 75:\n",
    "    print(\"Your grade is A\")\n",
    "elif per>= 70:\n",
    "    print(\"Your grade is A-\")\n",
    "elif per>= 65:\n",
    "    print(\"Your grade is B+\")\n",
    "elif per>= 60:\n",
    "    print(\"Your grade is B\")\n",
    "elif per>= 55:\n",
    "    print(\"Your grade is B-\")\n",
    "elif per>= 50:\n",
    "    print(\"Your grade is C+\")\n",
    "elif per>= 45:\n",
    "    print(\"Your grade is C\")\n",
    "elif per>= 40:\n",
    "    print(\"Your grade is D\")\n",
    "elif per>= 0:\n",
    "    print(\"Your grade is F\")\n",
    "else :\n",
    "    print(\"Invalid grade\")\n",
    "\n",
    "print(\"You have got \",per,\"% number\" ,sep=\"\")"
   ]
  },
  {
   "cell_type": "code",
   "execution_count": null,
   "id": "retired-wisdom",
   "metadata": {},
   "outputs": [],
   "source": []
  }
 ],
 "metadata": {
  "kernelspec": {
   "display_name": "Python 3",
   "language": "python",
   "name": "python3"
  },
  "language_info": {
   "codemirror_mode": {
    "name": "ipython",
    "version": 3
   },
   "file_extension": ".py",
   "mimetype": "text/x-python",
   "name": "python",
   "nbconvert_exporter": "python",
   "pygments_lexer": "ipython3",
   "version": "3.9.2"
  }
 },
 "nbformat": 4,
 "nbformat_minor": 5
}
