{
 "cells": [
  {
   "cell_type": "markdown",
   "id": "diverse-universe",
   "metadata": {},
   "source": [
    "# About Data Types\n",
    "### - What is Data Type ?\n",
    "Answer: Data types are the classification or categorization of data items. It represents the kind of value that tells what operations can be performed on a particular data.\n",
    "### - Describe all Data types with Example\n",
    "Answer: \n",
    "1. Python Number : \n",
    "                    Integer - 2 , 10 , 15\n",
    "                    Float - 5.25 , 9.70\n",
    "                    Complex - 10 + 5j\n",
    "                    \n",
    "2. Python List : [10 , 13 , 19 , \"HSTU\"]\n",
    "\n",
    "3. Python Tuple : (26 , \"IEEE\" , 2+3j)\n",
    "\n",
    "4. Python Strings : \"BANGLADESH\" , \"IEEE\"\n",
    "\n",
    "5. Python Set : {10 , 1+9j , \"HSTU\"}\n",
    "\n",
    "6. Python Dictionary : d = {\n",
    "                            1: \"one\",\n",
    "                            2: \"two\",\n",
    "                            3: \"three\" }\n"
   ]
  },
  {
   "cell_type": "markdown",
   "id": "directed-delivery",
   "metadata": {},
   "source": [
    "# Input And Output\n",
    "## Explain each parameter of print(*objects, sep=' ', end='\\n', file=sys.stdout, flush=False)\n",
    "\n",
    "The print() function is used to print objects to the text stream file, separated by sep and followed by end. sep, end and file, if present, must be given as keyword arguments. objects :Object to the printed. * indicates that there may be more than one object sep : Objects are separated by sep. Default value: ' ' end : Specify what to print at the end. Default is line feed ('\\n'). file : An object with write(string) method. Default: sys.stdout, which prints objects on the screen. flush : The stream is forcibly flushed If flush is True. Default value: False\n",
    "\n"
   ]
  },
  {
   "cell_type": "markdown",
   "id": "medieval-palmer",
   "metadata": {},
   "source": [
    "# Operator\n",
    "## What is a python operator? Describe at least three types of operator.\n",
    "\n",
    "Operators are special symbols in Python that carry out arithmetic or logical computation. The value that the operator operates on is called the operand.\n",
    "\n",
    "#### Arithmetic operators \n",
    "\n",
    "Arithmetic operators are used to perform mathematical operations like addition, subtraction, multiplication, etc.\n",
    "\n",
    "#### Comparison operators \n",
    "\n",
    "Comparison operators are used to compare values. It returns either True or False according to the condition.\n",
    "\n",
    "#### Logical operators\n",
    "\n",
    "Logical operators are the and, or, not operators"
   ]
  },
  {
   "cell_type": "markdown",
   "id": "floral-backing",
   "metadata": {},
   "source": [
    "## Problem 1\n",
    "#### Solution:"
   ]
  },
  {
   "cell_type": "code",
   "execution_count": 1,
   "id": "changed-surgeon",
   "metadata": {},
   "outputs": [
    {
     "name": "stdout",
     "output_type": "stream",
     "text": [
      "Tuesday\n"
     ]
    }
   ],
   "source": [
    "Week = [\"Sunday\",\"Monday\",\"Tuesday\",\"wednesday\",\"Thursday\",\"Friday\",\"Saturday\"]\n",
    "w3 = Week[2]\n",
    "print(w3)"
   ]
  },
  {
   "cell_type": "markdown",
   "id": "killing-sheet",
   "metadata": {},
   "source": [
    "## Problem 2\n",
    "#### Solution:"
   ]
  },
  {
   "cell_type": "code",
   "execution_count": 2,
   "id": "joint-drove",
   "metadata": {},
   "outputs": [
    {
     "name": "stdout",
     "output_type": "stream",
     "text": [
      "Enter the values of a 15\n",
      "Enter the values of b 20\n",
      "a + b = 35\n",
      "a - b = -5\n",
      "a x b = 300\n"
     ]
    }
   ],
   "source": [
    "a = int(input(\"Enter the values of a \"))\n",
    "b = int(input(\"Enter the values of b \"))\n",
    "print(\"a + b = {}\".format(a+b))\n",
    "print(\"a - b = {}\".format(a-b))\n",
    "print(\"a x b = {}\".format(a*b))"
   ]
  },
  {
   "cell_type": "markdown",
   "id": "intense-psychiatry",
   "metadata": {},
   "source": [
    "## Problem 3\n",
    "#### Solution:"
   ]
  },
  {
   "cell_type": "code",
   "execution_count": 16,
   "id": "returning-convention",
   "metadata": {},
   "outputs": [
    {
     "name": "stdout",
     "output_type": "stream",
     "text": [
      "Enter the values of a 3\n",
      "Enter the values of b 5\n",
      "a / b = 0 <class 'int'>\n",
      "a / b = 0.600000 <class 'float'>\n"
     ]
    }
   ],
   "source": [
    "a = int(input(\"Enter the values of a \"))\n",
    "b = int(input(\"Enter the values of b \"))\n",
    "div_int = a//b\n",
    "div_float = a/b\n",
    "print(\"a / b = %.0f\" %div_int,type(div_int))\n",
    "print(\"a / b = %f\" %div_float,type(div_float))"
   ]
  },
  {
   "cell_type": "markdown",
   "id": "seven-corps",
   "metadata": {},
   "source": [
    "## Problem 4\n",
    "#### Solution:"
   ]
  },
  {
   "cell_type": "code",
   "execution_count": 17,
   "id": "suitable-clarity",
   "metadata": {},
   "outputs": [
    {
     "name": "stdout",
     "output_type": "stream",
     "text": [
      "Red\n",
      "Black\n"
     ]
    }
   ],
   "source": [
    "color_list = [\"Red\",\"Green\",\"White\",\"Black\"]\n",
    "first = color_list[0]\n",
    "last = color_list[-1]\n",
    "print(first,last,sep=\"\\n\")"
   ]
  },
  {
   "cell_type": "markdown",
   "id": "young-utilization",
   "metadata": {},
   "source": [
    "## Problem 5\n",
    "#### Solution:"
   ]
  },
  {
   "cell_type": "code",
   "execution_count": 53,
   "id": "thermal-strike",
   "metadata": {},
   "outputs": [
    {
     "name": "stdout",
     "output_type": "stream",
     "text": [
      "Sample string :\n",
      "a string that you \"don't\" have to escape \n",
      "This\n",
      "is a ........ multi-line\n",
      "heredoc string----------> example\n"
     ]
    }
   ],
   "source": [
    "txt_2 =\"\"\"Sample string :\n",
    "a string that you \"don't\" have to escape \n",
    "This\n",
    "is a ........ multi-line\n",
    "heredoc string----------> example\"\"\"\n",
    " \n",
    "print(txt_2)"
   ]
  },
  {
   "cell_type": "markdown",
   "id": "silver-column",
   "metadata": {},
   "source": [
    "## Problem 6\n",
    "#### Solution:"
   ]
  },
  {
   "cell_type": "code",
   "execution_count": 58,
   "id": "broken-plane",
   "metadata": {},
   "outputs": [
    {
     "name": "stdout",
     "output_type": "stream",
     "text": [
      "Enter the base of the triangle  4\n",
      "Enter the height of the triangle  5\n",
      "The area of the triangle is  10.0\n"
     ]
    }
   ],
   "source": [
    "a = float(input(\"Enter the base of the triangle  \"))\n",
    "b = float(input(\"Enter the height of the triangle  \"))\n",
    "\n",
    "area = 0.5*a*b\n",
    "\n",
    "print(\"The area of the triangle is \", area)"
   ]
  },
  {
   "cell_type": "markdown",
   "id": "comic-image",
   "metadata": {},
   "source": [
    "## Problem 7\n",
    "#### Solution:"
   ]
  },
  {
   "cell_type": "code",
   "execution_count": 64,
   "id": "asian-commons",
   "metadata": {},
   "outputs": [
    {
     "name": "stdout",
     "output_type": "stream",
     "text": [
      "Enter your name : Arpan\n",
      "Enter your age : 20\n",
      "Enter your address : Narayanganj\n",
      "Arpan\n",
      "20\n",
      "Narayanganj\n"
     ]
    }
   ],
   "source": [
    "a = input(\"Enter your name : \")\n",
    "b = input(\"Enter your age : \")\n",
    "c = input(\"Enter your address : \")\n",
    "print(a,b,c,sep=\"\\n\")"
   ]
  },
  {
   "cell_type": "markdown",
   "id": "separated-percentage",
   "metadata": {},
   "source": [
    "## Problem 8\n",
    "#### Solution:"
   ]
  },
  {
   "cell_type": "code",
   "execution_count": 76,
   "id": "optimum-field",
   "metadata": {},
   "outputs": [
    {
     "name": "stdout",
     "output_type": "stream",
     "text": [
      "Enter the principle amount 50000\n",
      "Enter the rate 10\n",
      "Enter the time span 5\n",
      "The compound interest is 30525.50000000003\n"
     ]
    }
   ],
   "source": [
    "p = input(\"Enter the principle amount \")\n",
    "r = input(\"Enter the rate \")\n",
    "t = input(\"Enter the time span \")\n",
    "\n",
    "p_float = float(p)\n",
    "r_float = float(r)\n",
    "t_float = float(t)\n",
    "\n",
    "a = p_float*( 1+ r_float/100 ) ** t_float\n",
    "ci = a-p_float\n",
    "\n",
    "print(\"The compound interest is\", ci)"
   ]
  },
  {
   "cell_type": "markdown",
   "id": "animated-return",
   "metadata": {},
   "source": [
    "## Problem 9\n",
    "#### Solution:"
   ]
  },
  {
   "cell_type": "code",
   "execution_count": 77,
   "id": "bibliographic-technical",
   "metadata": {},
   "outputs": [
    {
     "name": "stdout",
     "output_type": "stream",
     "text": [
      "* * * * * \n",
      " * * * *  \n",
      "  * * *   \n",
      "   * *    \n",
      "    *     \n"
     ]
    }
   ],
   "source": [
    "a = \"* * * * *\"\n",
    "b = \"* * * *\"\n",
    "c = \"* * *\"\n",
    "d = \"* *\"\n",
    "e = \"*\"\n",
    "print(a.center(10))\n",
    "print(b.center(10))\n",
    "print(c.center(10))\n",
    "print(d.center(10))\n",
    "print(e.center(10))"
   ]
  },
  {
   "cell_type": "markdown",
   "id": "responsible-blend",
   "metadata": {},
   "source": [
    "## Problem 10\n",
    "#### Solution:"
   ]
  },
  {
   "cell_type": "code",
   "execution_count": 79,
   "id": "adjusted-surgery",
   "metadata": {},
   "outputs": [
    {
     "name": "stdout",
     "output_type": "stream",
     "text": [
      "Enter the temparature in Celsius 50\n",
      "Temparature in Fahrenheit is  122.0\n"
     ]
    }
   ],
   "source": [
    "c = float(input(\"Enter the temparature in Celsius \"))\n",
    "\n",
    "f = c*1.8+32\n",
    "\n",
    "print(\"Temparature in Fahrenheit is \", f)"
   ]
  },
  {
   "cell_type": "code",
   "execution_count": null,
   "id": "residential-poetry",
   "metadata": {},
   "outputs": [],
   "source": []
  },
  {
   "cell_type": "code",
   "execution_count": 82,
   "id": "advised-majority",
   "metadata": {},
   "outputs": [
    {
     "name": "stdout",
     "output_type": "stream",
     "text": [
      "\n",
      "a string that you \"don't\" have to escape\n",
      "This\n",
      "is a  ....... multi-line\n",
      "heredoc string --------> example\n",
      "\n"
     ]
    }
   ],
   "source": [
    "\n",
    "print(\"\"\"\n",
    "a string that you \"don't\" have to escape\n",
    "This\n",
    "is a  ....... multi-line\n",
    "heredoc string --------> example\n",
    "\"\"\")\n",
    "\n"
   ]
  },
  {
   "cell_type": "code",
   "execution_count": null,
   "id": "periodic-backup",
   "metadata": {},
   "outputs": [],
   "source": []
  }
 ],
 "metadata": {
  "kernelspec": {
   "display_name": "Python 3",
   "language": "python",
   "name": "python3"
  },
  "language_info": {
   "codemirror_mode": {
    "name": "ipython",
    "version": 3
   },
   "file_extension": ".py",
   "mimetype": "text/x-python",
   "name": "python",
   "nbconvert_exporter": "python",
   "pygments_lexer": "ipython3",
   "version": "3.9.2"
  }
 },
 "nbformat": 4,
 "nbformat_minor": 5
}
