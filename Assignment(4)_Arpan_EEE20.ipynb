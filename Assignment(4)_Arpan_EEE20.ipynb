{
 "cells": [
  {
   "cell_type": "markdown",
   "id": "wrong-experiment",
   "metadata": {},
   "source": [
    "# Problem 1\n",
    "#### Write a Python program to find those numbers which are divisible by 8 and 3 but multiple of 9, between 1000 and 1800 (both included)."
   ]
  },
  {
   "cell_type": "code",
   "execution_count": 12,
   "id": "crazy-parameter",
   "metadata": {},
   "outputs": [
    {
     "name": "stdout",
     "output_type": "stream",
     "text": [
      "1008\n",
      "1080\n",
      "1152\n",
      "1224\n",
      "1296\n",
      "1368\n",
      "1440\n",
      "1512\n",
      "1584\n",
      "1656\n",
      "1728\n",
      "1800\n"
     ]
    }
   ],
   "source": [
    "for i in range(1000,1801):\n",
    "    if i % 8 == 0 and i % 9 == 0:     # Numbers which are multiple of 9 are also divisible by 3\n",
    "        print(i)"
   ]
  },
  {
   "cell_type": "markdown",
   "id": "military-combine",
   "metadata": {},
   "source": [
    "# Problem 2\n",
    "#### touple = ('I','E','E','E','H','S','T','U','S','B')\n",
    "Using this touple, write a program whose output will be IEEE HSTU SB."
   ]
  },
  {
   "cell_type": "code",
   "execution_count": 13,
   "id": "economic-weather",
   "metadata": {},
   "outputs": [
    {
     "name": "stdout",
     "output_type": "stream",
     "text": [
      "IEEE HSTU SB\n"
     ]
    }
   ],
   "source": [
    "t = (\"I\",\"E\",\"E\",\"E\",\"H\",\"S\",\"T\",\"U\",\"S\",\"B\")\n",
    "\n",
    "a = \"\".join(t[0:4])\n",
    "b = \"\".join(t[4:8])\n",
    "c = \"\".join(t[8:10])\n",
    "\n",
    "print(a,b,c)"
   ]
  },
  {
   "cell_type": "markdown",
   "id": "prescription-equation",
   "metadata": {},
   "source": [
    "# Problem 3\n",
    "#### Write a Python program to check a triangle is equilateral, isosceles or scalene.\n",
    "Note :\n",
    "An equilateral triangle is a triangle in which all three sides are equal. \n",
    "\n",
    "A scalene triangle is a triangle that has three unequal sides. \n",
    "\n",
    "An isosceles triangle is a triangle with (at least) two equal sides."
   ]
  },
  {
   "cell_type": "code",
   "execution_count": 4,
   "id": "helpful-painting",
   "metadata": {},
   "outputs": [
    {
     "name": "stdout",
     "output_type": "stream",
     "text": [
      "Enter three sides of the triangle\n",
      "Enter the first one  5\n",
      "Enter the second one  26\n",
      "Enter the last one  17\n",
      "The triangle is Scalene\n"
     ]
    }
   ],
   "source": [
    "print(\"Enter three sides of the triangle\")\n",
    "\n",
    "a = int (input(\"Enter the first one  \"))\n",
    "b = int (input(\"Enter the second one  \"))\n",
    "c = int (input(\"Enter the last one  \"))\n",
    "\n",
    "if a+b<=c or a+b<=c or a+b<=c :\n",
    "    print(\"The sides can't form a triangle\")\n",
    "elif a==b==c:\n",
    "    print(\"The triangle is Equilateral\")\n",
    "elif a==b or a==c or b==c:\n",
    "    print(\"The triangle is Isosceles\")\n",
    "else :\n",
    "    print(\"The triangle is Scalene\")"
   ]
  },
  {
   "cell_type": "markdown",
   "id": "instrumental-hampshire",
   "metadata": {},
   "source": [
    "# Problem 4\n",
    "#### Write a Python program to create the multiplication table (from 1 to 10) of a number."
   ]
  },
  {
   "cell_type": "code",
   "execution_count": 7,
   "id": "alternate-shield",
   "metadata": {},
   "outputs": [
    {
     "name": "stdout",
     "output_type": "stream",
     "text": [
      "Enter a number 16\n",
      "16 x 1 = 16\n",
      "16 x 2 = 32\n",
      "16 x 3 = 48\n",
      "16 x 4 = 64\n",
      "16 x 5 = 80\n",
      "16 x 6 = 96\n",
      "16 x 7 = 112\n",
      "16 x 8 = 128\n",
      "16 x 9 = 144\n",
      "16 x 10 = 160\n"
     ]
    }
   ],
   "source": [
    "n = int(input(\"Enter a number \"))\n",
    "for i in range (1,11):\n",
    "    print(n,\"x\",i,\"=\",n*i)"
   ]
  },
  {
   "cell_type": "markdown",
   "id": "accepting-finance",
   "metadata": {},
   "source": [
    "# Problem 5\n",
    "#### Write a python program to check whether a given year is a leap year\n",
    "## Theory :\n",
    "### How to determine whether a year is a leap year\n",
    "To determine whether a year is a leap year, we have to follow these steps:\n",
    "\n",
    "1. If the year is evenly divisible by 4, go to step 2. Otherwise, go to step 5.\n",
    "2. If the year is evenly divisible by 100, go to step 3. Otherwise, go to step 4.\n",
    "3. If the year is evenly divisible by 400, go to step 4. Otherwise, go to step 5.\n",
    "4. The year is a leap year (it has 366 days).\n",
    "5. The year is not a leap year (it has 365 days).\n",
    "\n",
    "#### For this reason, the following years are not leap years:\n",
    "1700, 1800, 1900, 2100, 2200, 2300, 2500, 2600\n",
    "\n",
    "#### The following years are leap years:\n",
    "1600, 2000, 2400"
   ]
  },
  {
   "cell_type": "code",
   "execution_count": 15,
   "id": "static-evans",
   "metadata": {},
   "outputs": [
    {
     "name": "stdout",
     "output_type": "stream",
     "text": [
      "Enter a year: 2021\n",
      "The year is not a leap year (it has 365 days)\n"
     ]
    }
   ],
   "source": [
    "y = int(input(\"Enter a year: \"))\n",
    "\n",
    "yl = \"The year is a leap year (it has 366 days)\"\n",
    "nl = \"The year is not a leap year (it has 365 days)\"\n",
    "\n",
    "if y%4 == 0:\n",
    "    if y%100 == 0:\n",
    "        if y%400 == 0:\n",
    "            print(yl)\n",
    "        else :\n",
    "            print(nl)\n",
    "    else :\n",
    "        print(yl)\n",
    "else :\n",
    "    print(nl)"
   ]
  },
  {
   "cell_type": "markdown",
   "id": "found-gibson",
   "metadata": {},
   "source": [
    "# Problem 6\n",
    "#### Write the programs to get the areas of a) triangle, b)Rectangle, c) circle."
   ]
  },
  {
   "cell_type": "code",
   "execution_count": 5,
   "id": "limited-major",
   "metadata": {},
   "outputs": [
    {
     "name": "stdout",
     "output_type": "stream",
     "text": [
      "Choose a shape you want to get area of \n",
      "1. Triangle\n",
      "2. Rectangle\n",
      "3. Circle\n",
      "\n",
      "Enter the index number of the shape   3\n",
      "Enter the radius of the rectangle  6\n",
      "The area of the circle is 113.097335544\n"
     ]
    }
   ],
   "source": [
    "print(\"\"\"Choose a shape you want to get area of \n",
    "1. Triangle\n",
    "2. Rectangle\n",
    "3. Circle\n",
    "\"\"\")\n",
    "\n",
    "n=int(input(\"Enter the index number of the shape   \"))\n",
    "\n",
    "if n==1:\n",
    "    p = int(input(\"Enter the base of the triangle  \"))\n",
    "    q = int(input(\"Enter the height of the triangle  \"))\n",
    "    print(\"The area of the triangle is\",0.5*p*q)\n",
    "elif n==2:\n",
    "    p = int(input(\"Enter the base of the Rectangle  \"))\n",
    "    q = int(input(\"Enter the height of the Rectangle  \"))\n",
    "    print(\"The area of the Rectangle is\",p*q)\n",
    "elif n==3:\n",
    "    r = int(input(\"Enter the radius of the rectangle  \"))\n",
    "    print(\"The area of the circle is\", 3.141592654*r*r)\n",
    "else:\n",
    "    print(\"Invalid Index\")"
   ]
  },
  {
   "cell_type": "code",
   "execution_count": null,
   "id": "precious-panel",
   "metadata": {},
   "outputs": [],
   "source": []
  }
 ],
 "metadata": {
  "kernelspec": {
   "display_name": "Python 3",
   "language": "python",
   "name": "python3"
  },
  "language_info": {
   "codemirror_mode": {
    "name": "ipython",
    "version": 3
   },
   "file_extension": ".py",
   "mimetype": "text/x-python",
   "name": "python",
   "nbconvert_exporter": "python",
   "pygments_lexer": "ipython3",
   "version": "3.9.2"
  }
 },
 "nbformat": 4,
 "nbformat_minor": 5
}
